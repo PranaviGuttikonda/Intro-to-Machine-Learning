{
 "cells": [
  {
   "cell_type": "markdown",
   "id": "0809421d",
   "metadata": {},
   "source": [
    "# Question 1"
   ]
  },
  {
   "cell_type": "code",
   "execution_count": 49,
   "id": "ebbc770e",
   "metadata": {},
   "outputs": [
    {
     "name": "stdout",
     "output_type": "stream",
     "text": [
      "The Sorted list is : [19, 19, 20, 22, 24, 24, 24, 25, 25, 26]\n",
      "Minimum Age : 19\n",
      "Maximum Age : 26\n",
      "Appending Min to ages: [19, 22, 19, 24, 20, 25, 26, 24, 25, 24, 19]\n",
      "Appending Max to ages: [19, 22, 19, 24, 20, 25, 26, 24, 25, 24, 19, 26]\n",
      "Median of ages : 36.0\n",
      "Average of ages : 22.75\n",
      "Range of ages : 7\n"
     ]
    }
   ],
   "source": [
    "# The Given List is\n",
    "ages=[19,22,19,24,20,25,26,24,25,24]\n",
    "\n",
    "# Using sorted function for sorting the list and printing it...\n",
    "print('The Sorted list is :', sorted(ages))\n",
    "\n",
    "# Printing Minimum age by using min()\n",
    "print(\"Minimum Age :\", min(ages))\n",
    "\n",
    "#Printing the Maximum age by using max()\n",
    "print(\"Maximum Age :\", max(ages))\n",
    "\n",
    "# Appending Minimum age to the list using the append()\n",
    "ages.append(min(ages))\n",
    "print(\"Appending Min to ages:\", ages)\n",
    "\n",
    "# Appending Maximum age to the list.\n",
    "ages.append(max(ages)) \n",
    "print(\"Appending Max to ages:\", ages )\n",
    "\n",
    "# Calculating the Median of ages\n",
    "# Also, by using statistics module we can find the median by using the statistics.median()\n",
    "#By Finding the middle index of ages lis and dividing it by 2, we get median\n",
    "\n",
    "mid =len(ages)//2\n",
    "sortedList=sorted(ages)\n",
    "\n",
    "if len(ages) % 2: #checking if the list elements are even\n",
    "    \n",
    "    print(\"Median of ages :\", sortedList[mid]) # dividing the middle element by 2\n",
    "else: # Else print odd...\n",
    "    \n",
    "    print(\"Median of ages :\", (sortedList[mid] + sortedList[mid +1]/2.0)) # averaging the both middle indexes\n",
    "\n",
    "# Calculating the average of ages.\n",
    "# The average can also be calculated by using the statistics module using statistics.mean()\n",
    "\n",
    "\n",
    "avg=sum(ages)/len(ages) #Sum of elements by number of elements\n",
    "print(\"Average of ages :\", round(avg,2)) # printing an rounding it to two decimal places.\n",
    "\n",
    "\n",
    "# Calculating the Range of Functions \n",
    "# Since range is the difference in Maximum number and Minimum number, max()-min().\n",
    "\n",
    "print(\"Range of ages :\", max(ages)-min(ages))\n",
    "\n"
   ]
  },
  {
   "cell_type": "markdown",
   "id": "b00da73b",
   "metadata": {},
   "source": [
    "# Question 2"
   ]
  },
  {
   "cell_type": "code",
   "execution_count": 29,
   "id": "d300c15f",
   "metadata": {},
   "outputs": [
    {
     "name": "stdout",
     "output_type": "stream",
     "text": [
      "\n",
      "{'Name': None, 'color': None, 'breed': None, 'legs': None, 'age': None}\n",
      "\n",
      "Length of student dictionary:  9\n",
      "\n",
      "Data type of the list:  <class 'list'>\n",
      "\n",
      "Skills of the student:  ['Strategic Thinking', 'Time Management', 'Leadership', 'Creative']\n",
      "\n",
      "Student dictionary keys:  dict_keys(['first_name', 'last_name', 'gender', 'age', 'marital status', 'skills', 'country', 'city', 'address'])\n",
      "\n",
      "Student dictionary values:  dict_values(['Pranavi', 'Guttikonda', 'Female', 20, 'Single', ['Strategic Thinking', 'Time Management', 'Leadership', 'Creative'], 'India', 'Hyderabad', '231 Jefferson Street'])\n"
     ]
    }
   ],
   "source": [
    "dog = {}  # empty Dictionary\n",
    "print() #new line\n",
    "\n",
    "# Adding the keys without values of the dictionary\n",
    "dog[\"Name\"] = None\n",
    "dog['color'] = None\n",
    "dog['breed'] = None\n",
    "dog['legs'] = None\n",
    "dog['age'] = None\n",
    "print(dog)\n",
    "\n",
    "# Creating student dictionary\n",
    "student = {\n",
    "    'first_name': \"Pranavi\",\n",
    "    'last_name': \"Guttikonda\",\n",
    "    'gender': 'Female',\n",
    "    'age': 20,\n",
    "    'marital status': 'Single',\n",
    "    'skills': ['Strategic Thinking', 'Time Management'],\n",
    "    'country': 'India',\n",
    "    'city': 'Hyderabad',\n",
    "    'address': '231 Jefferson Street',\n",
    "}\n",
    "\n",
    "print() #new line\n",
    "# finding length of the student dictionary using len()\n",
    "print('Length of student dictionary: ', len(student))\n",
    "\n",
    "\n",
    "print() #new line\n",
    "#Printing the data type of skills using the type()\n",
    "print('Data type of the list: ', type(student['skills']))\n",
    "\n",
    "\n",
    "# Adding another skill value and printing it.\n",
    "print() #new line\n",
    "#Adding another skill to the skills list by using append()\n",
    "student['skills'].append('Leadership')\n",
    "student['skills'].append('Creative')\n",
    "print('Skills of the student: ', student['skills'])\n",
    "\n",
    "# Print the student dictionary keys as list\n",
    "\n",
    "print() #new line\n",
    "print('Student dictionary keys: ', student.keys())\n",
    "print() #new line\n",
    "\n",
    "# Getting the values as list.\n",
    "\n",
    "print('Student dictionary values: ', student.values())\n"
   ]
  },
  {
   "cell_type": "markdown",
   "id": "2f542a70",
   "metadata": {},
   "source": [
    "# Question 3"
   ]
  },
  {
   "cell_type": "code",
   "execution_count": 31,
   "id": "5000f6f7",
   "metadata": {},
   "outputs": [
    {
     "name": "stdout",
     "output_type": "stream",
     "text": [
      "\n",
      " Number of siblings I have:  10\n",
      "\n",
      "Family members:  ('Chandra', 'Nani', 'Abhi', 'Ram', 'Gana', 'Chaitra', 'Chetana', 'Dedeepya', 'Parnika', 'Karthika', 'Srinivasa Reddy', 'Neeraja')\n",
      "\n"
     ]
    }
   ],
   "source": [
    "# Creating the brothers tuple\n",
    "\n",
    "brothers=('Chandra','Nani','Abhi', 'Ram', 'Gana' )\n",
    "\n",
    "#Creating the Sisters tuple\n",
    "sisters=('Chaitra', 'Chetana', 'Dedeepya','Parnika','Karthika')\n",
    "\n",
    "#adding these two tuples\n",
    "\n",
    "siblings = brothers + sisters\n",
    "\n",
    "\n",
    "print() #new line\n",
    "#Printing the total number of siblings I have\n",
    "print(' Number of siblings I have: ', len(siblings))\n",
    "# Adding Parents names...\n",
    "\n",
    "#The siblings tuple is converted into list by using the list function.\n",
    "#Since I have to add my parents names to the siblings tuple I am converting it into a list as tuples are immutable. \n",
    "\n",
    "siblingsList=list(siblings)\n",
    "#Parents List....\n",
    "parents=['Srinivasa Reddy','Neeraja']\n",
    "\n",
    "# Adding the parents list to the siblings list to display the complete family members...\n",
    "siblingsList.extend(parents)\n",
    "\n",
    "#Changing the sublist into tuple again as the i am not going to add anymore family members... \n",
    "\n",
    "family_members=tuple(siblingsList)\n",
    "\n",
    "\n",
    "print() #new line\n",
    "# Printing the complete list of family members.\n",
    "\n",
    "print('Family members: ', family_members)\n",
    "\n",
    "print() #new line\n"
   ]
  },
  {
   "cell_type": "markdown",
   "id": "b58d8c7c",
   "metadata": {},
   "source": [
    "# Question 4"
   ]
  },
  {
   "cell_type": "code",
   "execution_count": 37,
   "id": "f6f2e687",
   "metadata": {},
   "outputs": [
    {
     "name": "stdout",
     "output_type": "stream",
     "text": [
      "Length of the set it_companies:  7\n",
      "\n",
      "\n",
      "{'T-MobileUS', 'Microsoft', 'Oracle', 'Amazon', 'Netflix', 'Apple', 'IBM', 'Facebook', 'Twitter', 'Google'}\n",
      "Joined set:  {19, 20, 22, 24, 25, 26, 27, 28}\n",
      "Intersection of the set :  {19, 20, 22, 24, 25, 26}\n",
      "True\n",
      "False\n",
      "{19, 20, 22, 24, 25, 26, 27, 28}\n",
      "{19, 20, 22, 24, 25, 26, 27, 28}\n",
      "The Symmetric difference between A and B is =  {27, 28}\n",
      "length of Ages:  5\n"
     ]
    }
   ],
   "source": [
    "it_companies = {'Facebook', 'Google', 'Microsoft', 'Apple', 'IBM', 'Oracle', 'Amazon'}\n",
    "A = {19, 22, 24, 20, 25, 26} \n",
    "B = {19, 22, 20, 25, 26, 24, 28, 27} \n",
    "age = [22, 19, 24, 25, 26, 24, 25, 24]  \n",
    "\n",
    "#Printing the Length of the set it_companies using len()\n",
    "print('Length of the set it_companies: ', len(it_companies))\n",
    "\n",
    "#Adding an element to the it_companies set using add()\n",
    "it_companies.add('Twitter')\n",
    "\n",
    "#Inserting multiple it companies to the set...\n",
    "it_companies_other = {'T-MobileUS','PayPal','Netflix'}\n",
    "\n",
    "print() #new line\n",
    "#Adding multiple it companies to set it_companies using the union() \n",
    "it_companies_new = it_companies_other.union(it_companies)\n",
    "\n",
    "#remove an item from the set it_companies\n",
    "\n",
    "print() #new line\n",
    "it_companies_new.remove('PayPal')\n",
    "\n",
    "#printing the rest It_companies\n",
    "print(it_companies_new)\n",
    "\n",
    "# Joining the sets A and B using the union()\n",
    "join_AB = A.union(B)\n",
    "print(\"Joined set: \", join_AB)\n",
    "\n",
    "#Intersecting the sets A and B using the function intersection()\n",
    "intersect_AB = A.intersection(B)\n",
    "print(\"Intersection of the set : \", intersect_AB)\n",
    "\n",
    "# Is A subset of B, using issubset()\n",
    "print(A.issubset(B))\n",
    "\n",
    "# Are A and B disjoint sets, using isdisjoint()\n",
    "print(A.isdisjoint(B)) \n",
    "\n",
    "# Join A with B and B with A, using union()\n",
    "print(A.union(B))\n",
    "\n",
    "print(B.union(A))\n",
    "\n",
    "# Finding the Symmetric Difference between A and B...\n",
    "print('The Symmetric difference between A and B is = ', A.symmetric_difference(B))\n",
    "\n",
    "#Deleting the sets completely using the clear()\n",
    "it_companies_new.clear()\n",
    "A.clear()\n",
    "B.clear()\n",
    "\n",
    "# converting Ages to set and finding the length. \n",
    "Ages=set(age)\n",
    "print(\"length of Ages: \", len(Ages))\n"
   ]
  },
  {
   "cell_type": "markdown",
   "id": "1ca83620",
   "metadata": {},
   "source": [
    "# Question 5"
   ]
  },
  {
   "cell_type": "code",
   "execution_count": 50,
   "id": "ac8eb315",
   "metadata": {},
   "outputs": [
    {
     "name": "stdout",
     "output_type": "stream",
     "text": [
      "2826.0\n",
      "188.4\n",
      "Radius of the circle? : 31\n",
      "3017.54\n"
     ]
    }
   ],
   "source": [
    "Radius= 30\n",
    "\n",
    "#Calculating the Area of the Circle\n",
    "\n",
    "_area_of_circle_= 3.14 * Radius *Radius\n",
    "print(_area_of_circle_)\n",
    "\n",
    "#Calculating the circumference of the circle\n",
    "\n",
    "_circum_of_circle_ = 2 * 3.14 * Radius\n",
    "print(_circum_of_circle_)\n",
    "\n",
    "#Now taking the radius from the user and calculating the area.\n",
    "\n",
    "Radius_user= int(input(\"Radius of the circle? : \"))\n",
    "Area= 3.14 * Radius_user * Radius_user\n",
    "print(Area)"
   ]
  },
  {
   "cell_type": "markdown",
   "id": "31559a66",
   "metadata": {},
   "source": [
    "# Question 6"
   ]
  },
  {
   "cell_type": "code",
   "execution_count": 43,
   "id": "e4e87541",
   "metadata": {},
   "outputs": [
    {
     "name": "stdout",
     "output_type": "stream",
     "text": [
      "Length of the sentence:  10\n",
      "Unique words in the sentence:  {'to', 'teach', 'I', 'people', 'and', 'am', 'inspire', 'teacher', 'a', 'love'}\n"
     ]
    }
   ],
   "source": [
    "sentence=\"I am a teacher and I love to inspire and teach people\"\n",
    "\n",
    "#Finding the unique word used in the sentence and printing the length of them \n",
    "print('Length of the sentence: ', len(set(sentence.split())))\n",
    "\n",
    "#Printing the unique words after splitting them using the split()\n",
    "print('Unique words in the sentence: ', set(sentence.split()))\n"
   ]
  },
  {
   "cell_type": "markdown",
   "id": "9a20732f",
   "metadata": {},
   "source": [
    "# Question 7"
   ]
  },
  {
   "cell_type": "code",
   "execution_count": 44,
   "id": "f82d299f",
   "metadata": {},
   "outputs": [
    {
     "name": "stdout",
     "output_type": "stream",
     "text": [
      "Name \t\t Age \t Country City\n",
      "Asabeneh \t 250 \t Finland Helsinki\n"
     ]
    }
   ],
   "source": [
    "# Use tab escape sequence \\t...\n",
    "print('Name \\t\\t Age \\t Country City')\n",
    "print('Asabeneh \\t 250 \\t Finland Helsinki')\n"
   ]
  },
  {
   "cell_type": "markdown",
   "id": "b3bb7e5b",
   "metadata": {},
   "source": [
    "# Question 8"
   ]
  },
  {
   "cell_type": "code",
   "execution_count": 45,
   "id": "a4606078",
   "metadata": {},
   "outputs": [
    {
     "name": "stdout",
     "output_type": "stream",
     "text": [
      "The area of a circle with radius 10 is 314 meters square.\n"
     ]
    }
   ],
   "source": [
    "radius = 10\n",
    "area = 3.14 * radius ** 2\n",
    "# Since the area of the circle is taken in float, converting float to int according to question...\n",
    "area=int(area)\n",
    "\n",
    "# Using the string formatting to display the given sentence in the question...\n",
    "print(f'The area of a circle with radius 10 is {area} meters square.')\n"
   ]
  },
  {
   "cell_type": "markdown",
   "id": "0d85b658",
   "metadata": {},
   "source": [
    "# Question 9"
   ]
  },
  {
   "cell_type": "code",
   "execution_count": 48,
   "id": "5f23f43b",
   "metadata": {},
   "outputs": [
    {
     "name": "stdout",
     "output_type": "stream",
     "text": [
      "Enter the number of weights you are going to read in  lbs: 4\n",
      "Enter the weights: 150\n",
      "Enter the weights: 155\n",
      "Enter the weights: 145\n",
      "Enter the weights: 148\n",
      "Weight in kgs are:  [68.04, 70.31, 65.77, 67.13]\n"
     ]
    }
   ],
   "source": [
    "# Printing a user input statement firstly... \n",
    "number = int(input('Enter the number of weights you are going to read in  lbs: '))\n",
    "\n",
    "# empty list\n",
    "weight_kgs=[]\n",
    "\n",
    "# empty list \n",
    "weight_lbs=[]\n",
    "\n",
    "# appending the inputs to a list\n",
    "for i in range(number):\n",
    "    weight_lb=float(input('Enter the weights: '))\n",
    "    weight_lbs.append(weight_lb)\n",
    "for j in weight_lbs:\n",
    "    weight_kgs.append(round(j* 0.45359,2)) \n",
    "print ('Weight in kgs are: ', weight_kgs)\n"
   ]
  },
  {
   "cell_type": "code",
   "execution_count": null,
   "id": "3e521536",
   "metadata": {},
   "outputs": [],
   "source": []
  }
 ],
 "metadata": {
  "kernelspec": {
   "display_name": "Python 3 (ipykernel)",
   "language": "python",
   "name": "python3"
  },
  "language_info": {
   "codemirror_mode": {
    "name": "ipython",
    "version": 3
   },
   "file_extension": ".py",
   "mimetype": "text/x-python",
   "name": "python",
   "nbconvert_exporter": "python",
   "pygments_lexer": "ipython3",
   "version": "3.9.13"
  }
 },
 "nbformat": 4,
 "nbformat_minor": 5
}
