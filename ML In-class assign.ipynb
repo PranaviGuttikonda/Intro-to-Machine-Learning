{
 "cells": [
  {
   "cell_type": "code",
   "execution_count": 5,
   "id": "202dc926",
   "metadata": {},
   "outputs": [
    {
     "name": "stdout",
     "output_type": "stream",
     "text": [
      "6\n",
      "* \n",
      "* * \n",
      "* * * \n",
      "* * * * \n",
      "* * * * * \n",
      "* * * * * * \n",
      "* * * * * \n",
      "* * * * \n",
      "* * * \n",
      "* * \n",
      "* \n"
     ]
    }
   ],
   "source": [
    "n=int(input()) #input for the number of rows n(input)\n",
    "\n",
    "for i in range(1,n+1):\n",
    "    for j in range(i):\n",
    "        print(\"*\", end=\" \")\n",
    "    print(\"\")\n",
    "    \n",
    "for i in range(n-1,0,-1):\n",
    "    for j in range(i):\n",
    "        print('*', end=\" \")\n",
    "    print(\"\")\n",
    "    \n"
   ]
  },
  {
   "cell_type": "code",
   "execution_count": 6,
   "id": "6f6bec3a",
   "metadata": {},
   "outputs": [
    {
     "name": "stdout",
     "output_type": "stream",
     "text": [
      "[20, 40, 60, 80, 100]\n"
     ]
    }
   ],
   "source": [
    "my_list = [10,20,30,40,50,60,70,80,90,100]\n",
    "f_list=[] # Here I am declaring an empty list \n",
    "for i in my_list[1::2]: #using for loop to access elements in my_list...\n",
    "    f_list.append(i) #elements are added to the f_list\n",
    "print(f_list)"
   ]
  },
  {
   "cell_type": "code",
   "execution_count": 7,
   "id": "92632454",
   "metadata": {},
   "outputs": [
    {
     "name": "stdout",
     "output_type": "stream",
     "text": [
      "[23, 'Python', 23.98]\n",
      "[<class 'int'>, <class 'str'>, <class 'float'>]\n"
     ]
    }
   ],
   "source": [
    "x= [23, 'Python', 23.98]\n",
    "f_list=[] #Declaring an empty list(array)\n",
    "for i in x:\n",
    "    f_list.append(type(i))\n",
    "print(x) \n",
    "print(f_list)"
   ]
  },
  {
   "cell_type": "code",
   "execution_count": 13,
   "id": "33656277",
   "metadata": {},
   "outputs": [
    {
     "name": "stdout",
     "output_type": "stream",
     "text": [
      "Enter the length of the number:8 \n",
      "1\n",
      "2\n",
      "3\n",
      "3\n",
      "3\n",
      "3\n",
      "4\n",
      "5\n",
      "Unique list is:  [1, 2, 3, 4, 5]\n"
     ]
    }
   ],
   "source": [
    "def unique_list(set1): #defining a \"unique\" function\n",
    "    x=list(set(set1)) # Here i am converting input list to a set for eliminating duplicate values\n",
    "    print(\"Unique list is: \",x)\n",
    "set2=[]\n",
    "n= int(input(\"Enter the length of the number:\"))\n",
    "for i in range(0,n):\n",
    "    set1=int(input())#inputing dynamic values from the use\n",
    "    set2.append(set1)#adding the values from set1 to set2 using append function\n",
    "unique_list(set2)#call the uniwue function\n",
    "       "
   ]
  },
  {
   "cell_type": "code",
   "execution_count": 17,
   "id": "1dddaf3d",
   "metadata": {},
   "outputs": [
    {
     "name": "stdout",
     "output_type": "stream",
     "text": [
      "No. of Upper-case characters:  3\n",
      "No. of Lower-case characters:  12\n"
     ]
    }
   ],
   "source": [
    "x='The quick Brow Fox'\n",
    "\n",
    "ucount=0\n",
    "icount=0\n",
    "for i in x:\n",
    "    if i.isupper():\n",
    "        ucount=ucount+1 #if the output is yes, incrementing the ucount\n",
    "        \n",
    "    if(i.islower()):\n",
    "        icount=icount+1 #if the output is false(lower case), then increment icount\n",
    "    \n",
    "print(\"No. of Upper-case characters: \", ucount)\n",
    "print(\"No. of Lower-case characters: \", icount)\n",
    "    "
   ]
  }
 ],
 "metadata": {
  "kernelspec": {
   "display_name": "Python 3 (ipykernel)",
   "language": "python",
   "name": "python3"
  },
  "language_info": {
   "codemirror_mode": {
    "name": "ipython",
    "version": 3
   },
   "file_extension": ".py",
   "mimetype": "text/x-python",
   "name": "python",
   "nbconvert_exporter": "python",
   "pygments_lexer": "ipython3",
   "version": "3.9.13"
  }
 },
 "nbformat": 4,
 "nbformat_minor": 5
}
